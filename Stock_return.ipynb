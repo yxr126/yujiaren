{
 "cells": [
  {
   "cell_type": "markdown",
   "metadata": {},
   "source": [
    "<h1><center>Machine Learning and Asset Pricing Models</center></h1>\n",
    "<h2><center>Yujia Ren yxr126@case.edu</center></h2>\n"
   ]
  },
  {
   "cell_type": "markdown",
   "metadata": {},
   "source": [
    "<h2>Problem definition</h2>\n",
    "\n",
    "In this project, I plan to use machine learning to construct an asset pricing model. In the model, I will have a set of variables to capture the features of stock returns. The problem naturally is categorized into two sub-tasks: the choice of the most important features and the prediction of the stock returns. We will separate our data into the training and testing sets, which are totally separated in the task. We will first train the data using all input variables available, then we select the most important k variables based on the prediction. Then we truncate the number variables to k to redo the prediction. To improve the robustness of our method, we will test our full-variable and truncated-variable models using the testing set, and apply four-fold cross-validation to run the model multiple times. Besides, according to the reference (Gu et al., 2019), we may use a new methodology here, which includes the statistical model describing the risk premium, an  objective function to estimate model parameters and computational algorithms. The methods we will use include but not limited to simple linear regression, regularized linear regressions (e.g. ridge regression), boosted regression tree, random forests and neural networks. For input space dimension reduction, we can use partial linear square (PLS) and principal component regression (PCR). All of the estimates share the basic goal of minimum MSE. The final result of this project includes the regression accuracy, the most important input variables of each method."
   ]
  },
  {
   "cell_type": "markdown",
   "metadata": {},
   "source": [
    "<h2>Import modules</h2>"
   ]
  },
  {
   "cell_type": "code",
   "execution_count": 19,
   "metadata": {},
   "outputs": [],
   "source": [
    "# import modules\n",
    "import numpy as np\n",
    "import pandas as pd\n",
    "from sklearn.metrics import r2_score, mean_squared_error\n",
    "import matplotlib.pyplot as plt\n",
    "from sklearn.preprocessing import MinMaxScaler\n",
    "from sklearn.linear_model import LinearRegression, Lasso, Ridge, BayesianRidge\n",
    "from sklearn.linear_model import SGDRegressor\n",
    "from sklearn.svm import SVR\n",
    "from sklearn.tree import DecisionTreeRegressor\n",
    "from sklearn.model_selection import KFold\n",
    "%matplotlib inline"
   ]
  },
  {
   "cell_type": "markdown",
   "metadata": {},
   "source": [
    "## Define functions"
   ]
  },
  {
   "cell_type": "code",
   "execution_count": 20,
   "metadata": {},
   "outputs": [],
   "source": [
    "def generate_data(sic2_number=1):\n",
    "    '''\n",
    "    A function to read the stock data and output standardized x and y\n",
    "    args: sic2 stock code (i.e 1 means agricultural stocks)\n",
    "    return: standardized x, y and column names\n",
    "    '''\n",
    "    # import feature and returns\n",
    "    df = pd.read_csv(r'../yujia_data/data/project_machine.csv')\n",
    "    column_names_old = list(df)\n",
    "    df = df[df['sic2']==sic2_number]\n",
    "    df = df.fillna(0)\n",
    "    #df = df.dropna(axis=1)\n",
    "    not_include = ['RET','DATE', 'permno', 'sic2', 'gvkey', 'fyear', 'datadate',\n",
    "                   'rdq', 'ewret', 'DLRET', 'DLSTCD']\n",
    "    x = df.drop(not_include, axis=1)\n",
    "    column_names = [e for e in column_names_old if e not in not_include] \n",
    "    y = df['RET']\n",
    "    \n",
    "    # standardize the data\n",
    "    \n",
    "    min_max_scaler = MinMaxScaler()\n",
    "    x = min_max_scaler.fit_transform(x)\n",
    "    y = y.values\n",
    "\n",
    "    return x, y, column_names"
   ]
  },
  {
   "cell_type": "markdown",
   "metadata": {},
   "source": [
    "## Ordinary least squares regression\n",
    "The following are a set of methods intended for regression in which the target value is expected to be a linear combination of the features. In mathematical notation, if $\\hat{y}$ is the predicted value.\n",
    "\n",
    "$$\n",
    "\\begin{aligned}\n",
    "\\hat{y}(w, x) = w_0 + w_1 x_1 + ... + w_p x_p\n",
    "\\end{aligned}\n",
    "\\\\\n",
    "$$\n",
    "\n",
    "Across the module, we designate the vector $w = (w_1,\n",
    "..., w_p)$ as <code>coef_</code> and $w_0$ as <code>intercept_</code>."
   ]
  },
  {
   "cell_type": "markdown",
   "metadata": {},
   "source": [
    "Ordinary Least Squares fits a linear model with coefficients $w = (w_1, ..., w_p)$ to to minimize the residual sum of squares between the observed targets in the dataset, and the targets predicted by the linear approximation. Mathematically it solves a problem of the form:\n",
    "$$\n",
    "\\begin{aligned}\n",
    "\\min_{w} || X w - y||_2^2\n",
    "\\end{aligned}\n",
    "$$"
   ]
  },
  {
   "cell_type": "code",
   "execution_count": 21,
   "metadata": {},
   "outputs": [],
   "source": [
    "def ols(x_train, x_test, y_train, y_test, alpha=None):\n",
    "    '''\n",
    "    A function to do ols regression\n",
    "    args: x train, x test, y train, y test, dummpy alpha\n",
    "    return: y pred, linear coefficients\n",
    "    '''\n",
    "    clf = LinearRegression()\n",
    "    clf.fit(x_train, y_train)\n",
    "    y_pred = clf.predict(x_test)\n",
    "    coef = clf.coef_.squeeze()\n",
    "    return y_pred, coef"
   ]
  },
  {
   "cell_type": "markdown",
   "metadata": {},
   "source": [
    "## Lasso regression\n",
    "The Lasso is a linear model that estimates sparse coefficients. It is useful in some contexts due to its tendency to prefer solutions with fewer non-zero coefficients, effectively reducing the number of features upon which the given solution is dependent. For this reason Lasso and its variants are fundamental to the field of compressed sensing. Under certain conditions, it can recover the exact set of non-zero coefficients.\n",
    "\n",
    "Mathematically, it consists of a linear model with an added regularization term. The objective function to minimize is:\n",
    "\n",
    "$$\n",
    "\\begin{aligned}\n",
    "\\min_{w} { \\frac{1}{2n_{\\text{samples}}} ||X w - y||_2 ^ 2 + \\alpha ||w||_1}\n",
    "\\end{aligned}\n",
    "$$\n",
    "\n",
    "The lasso estimate thus solves the minimization of the least-squares penalty with $\\alpha ||w||_1$ added, where $\\alpha$ is a constant and $||w||_1$ is the $\\ell_1$-norm of the coefficient vector."
   ]
  },
  {
   "cell_type": "code",
   "execution_count": 22,
   "metadata": {},
   "outputs": [],
   "source": [
    "def lasso(x_train, x_test, y_train, y_test, alpha=0.0001):\n",
    "    '''\n",
    "    A function to do lasso regression\n",
    "    args: x train, x test, y train, y test, lasso alpha\n",
    "    return: y pred, linear coefficients\n",
    "    '''\n",
    "    clf = Lasso(alpha=alpha, max_iter=10000)\n",
    "    clf.fit(x_train, y_train)\n",
    "    y_pred = clf.predict(x_test)\n",
    "    coef = clf.coef_.squeeze()\n",
    "    return y_pred, coef"
   ]
  },
  {
   "cell_type": "markdown",
   "metadata": {},
   "source": [
    "## Ridge regression\n",
    "\n",
    "Ridge regression addresses some of the problems of Ordinary Least Squares by imposing a penalty on the size of the coefficients. The ridge coefficients minimize a penalized residual sum of squares:\n",
    "\n",
    "$$\n",
    "\\begin{aligned}\n",
    "\\min_{w} || X w - y||_2^2 + \\alpha ||w||_2^2\n",
    "\\end{aligned}\n",
    "$$\n",
    "\n",
    "The complexity parameter $\\alpha \\geq 0$ controls the amount of shrinkage: the larger the value of $\\alpha$, the greater the amount of shrinkage and thus the coefficients become more robust to collinearity."
   ]
  },
  {
   "cell_type": "code",
   "execution_count": 23,
   "metadata": {},
   "outputs": [],
   "source": [
    "def ridge(x_train, x_test, y_train, y_test, alpha=0.2):\n",
    "    '''\n",
    "    A function to do ridge regression\n",
    "    args: x train, x test, y train, y test, ridge alpha\n",
    "    return: y pred, linear coefficients\n",
    "    '''\n",
    "    clf = Ridge(alpha=alpha, max_iter=10000)\n",
    "    clf.fit(x_train, y_train)\n",
    "    y_pred = clf.predict(x_test)\n",
    "    coef = clf.coef_.squeeze()\n",
    "    return y_pred, coef"
   ]
  },
  {
   "cell_type": "markdown",
   "metadata": {},
   "source": [
    "## Baytesian ridge regression\n",
    "\n",
    "Bayesian regression techniques can be used to include regularization parameters in the estimation procedure: the regularization parameter is not set in a hard sense but tuned to the data at hand.\n",
    "\n",
    "This can be done by introducing uninformative priors over the hyper parameters of the model. The $\\ell_2$ regularization used in Ridge regression and classification is equivalent to finding a maximum a posteriori estimation under a Gaussian prior over the coefficients  with precision $\\lambda^{-1}$. Instead of setting <code>lambda</code> manually, it is possible to treat it as a random variable to be estimated from the data.\n",
    "    \n",
    "To obtain a fully probabilistic model, the output $y$ is assumed to be Gaussian distributed around $Xw$:\n",
    "\n",
    "$$\n",
    "\\begin{aligned}\n",
    "p(y|X,w,\\alpha) = \\mathcal{N}(y|X w,\\alpha)\n",
    "\\end{aligned}\n",
    "$$\n",
    "\n",
    "where $\\alpha$ is again treated as a random variable that is to be estimated from the data.\n",
    "\n",
    "The advantages of Bayesian Regression are:\n",
    "* It adapts to the data at hand.\n",
    "* It can be used to include regularization parameters in the estimation procedure.\n",
    "\n",
    "The disadvantages of Bayesian regression include:\n",
    "* Inference of the model can be time consuming."
   ]
  },
  {
   "cell_type": "markdown",
   "metadata": {},
   "source": [
    "BayesianRidge estimates a probabilistic model of the regression problem as described above. The prior for the coefficient  is given by a spherical Gaussian:\n",
    "\n",
    "$$\n",
    "\\begin{aligned}\n",
    "p(w|\\lambda) =\n",
    "\\mathcal{N}(w|0,\\lambda^{-1}\\mathbf{I}_{p})\n",
    "\\end{aligned}\n",
    "$$\n",
    "\n",
    "The priors over $\\alpha$ and $\\lambda$ are chosen to be gamma distributions, the conjugate prior for the precision of the Gaussian. The resulting model is called <em>Bayesian Ridge Regression</em>, and is similar to the classical Ridge.\n",
    "\n",
    "The parameters $w$, $\\alpha$ and $\\lambda$ are estimated jointly during the fit of the model, the regularization parameters $\\alpha$ and $\\lambda$ being estimated by maximizing the <em>log marginal likelihood</em>."
   ]
  },
  {
   "cell_type": "code",
   "execution_count": 24,
   "metadata": {},
   "outputs": [],
   "source": [
    "def bayesianridge(x_train, x_test, y_train, y_test, alpha=None):\n",
    "    '''\n",
    "    A function to do bayesian ridge regression\n",
    "    args: x train, x test, y train, y test, dummy alpha\n",
    "    return: y pred, linear coefficients\n",
    "    '''\n",
    "    clf = BayesianRidge()\n",
    "    clf.fit(x_train, y_train)\n",
    "    y_pred = clf.predict(x_test)\n",
    "    coef = clf.coef_.squeeze()\n",
    "    return y_pred, coef"
   ]
  },
  {
   "cell_type": "markdown",
   "metadata": {},
   "source": [
    "## Stochastic Gradient Descent\n",
    "\n",
    "Stochastic Gradient Descent (SGD) is a simple yet very efficient approach to discriminative learning of linear classifiers under convex loss functions such as (linear) Support Vector Machines and Logistic Regression. Even though SGD has been around in the machine learning community for a long time, it has received a considerable amount of attention just recently in the context of large-scale learning."
   ]
  },
  {
   "cell_type": "code",
   "execution_count": 25,
   "metadata": {},
   "outputs": [],
   "source": [
    "def sgdregressor(x_train, x_test, y_train, y_test, alpha=None):\n",
    "    '''\n",
    "    A function to do SGD regression\n",
    "    args: x train, x test, y train, y test, dummy alpha\n",
    "    return: y pred\n",
    "    '''\n",
    "    clf = SGDRegressor(penalty='l1')\n",
    "    clf.fit(x_train, y_train)\n",
    "    y_pred = clf.predict(x_test)\n",
    "    coef = clf.coef_.squeeze()\n",
    "    return y_pred, coef"
   ]
  },
  {
   "cell_type": "markdown",
   "metadata": {},
   "source": [
    "## Decision Tree\n",
    "\n",
    "Decision Trees (DTs) are a non-parametric supervised learning method used for classification and regression. The goal is to create a model that predicts the value of a target variable by learning simple decision rules inferred from the data features."
   ]
  },
  {
   "cell_type": "code",
   "execution_count": 26,
   "metadata": {},
   "outputs": [],
   "source": [
    "def decisiontree(x_train, x_test, y_train, y_test, alpha=None):\n",
    "    '''\n",
    "    A function to do dicition tree regression\n",
    "    args: x train, x test, y train, y test, dummy alpha\n",
    "    return: y pred\n",
    "    '''\n",
    "    clf = DecisionTreeRegressor()\n",
    "    clf.fit(x_train, y_train)\n",
    "    y_pred = clf.predict(x_test)\n",
    "    return y_pred, 0"
   ]
  },
  {
   "cell_type": "code",
   "execution_count": 27,
   "metadata": {},
   "outputs": [],
   "source": [
    "def k_fold(x, y, n_splits=4):\n",
    "    '''\n",
    "    A function to do k-fold cross-validation\n",
    "    args: x, y, number of splits\n",
    "    return: x train, x test, y_train, y test lists\n",
    "    '''\n",
    "    kf = KFold(n_splits=n_splits, shuffle=True, random_state=42)\n",
    "    kf.get_n_splits(x)\n",
    "    x_trains, x_tests, y_trains, y_tests = [], [], [], []\n",
    "    for train_index, test_index in kf.split(x):\n",
    "        x_train, x_test = x[train_index], x[test_index]\n",
    "        y_train, y_test = y[train_index], y[test_index]\n",
    "        x_trains.append(x_train)\n",
    "        x_tests.append(x_test)\n",
    "        y_trains.append(y_train)\n",
    "        y_tests.append(y_test)\n",
    "    return x_trains, x_tests, y_trains, y_tests"
   ]
  },
  {
   "cell_type": "code",
   "execution_count": 28,
   "metadata": {},
   "outputs": [],
   "source": [
    "def plot_pred(y_test, y_pred, title):\n",
    "    '''\n",
    "    A function to plot the actual and predicted stock return\n",
    "    args: actual return, predicted return, type of regression\n",
    "    return: save an image\n",
    "    '''\n",
    "    plt.figure()\n",
    "    plt.scatter(y_test, y_pred)\n",
    "    plt.xlabel('Actual return')\n",
    "    plt.ylabel('Predicted return')\n",
    "    plt.grid()\n",
    "    plt.savefig('./plots/{}.svg'.format(title), dpi=400)\n",
    "    plt.show();"
   ]
  },
  {
   "cell_type": "code",
   "execution_count": 29,
   "metadata": {},
   "outputs": [],
   "source": [
    "def evaluation(x, y, metric, alpha):\n",
    "    x_trains, x_tests, y_trains, y_tests = k_fold(x, y, n_splits=4)\n",
    "    y_true = []\n",
    "    y_pred = []\n",
    "    for i in range(len(x_trains)):\n",
    "        x_train = x_trains[i]\n",
    "        x_test = x_tests[i]\n",
    "        y_train = y_trains[i]\n",
    "        y_test = y_tests[i]\n",
    "        y_pred.append(metric(x_train, x_test, y_train, y_test, alpha)[0])\n",
    "        y_true.append(y_tests[i])\n",
    "    y_true = np.concatenate(y_true)\n",
    "    y_pred = np.concatenate(y_pred)\n",
    "    # evaluation\n",
    "    plot_pred(y_true, y_pred, metric.__name__)\n",
    "    r2 = r2_score(y_true, y_pred)\n",
    "    rmse = mean_squared_error(y_true, y_pred)**0.5\n",
    "    print('R2: {:.4f}'.format(r2))\n",
    "    print('RMSE: {:.4f}'.format(rmse))\n",
    "    return"
   ]
  },
  {
   "cell_type": "code",
   "execution_count": 30,
   "metadata": {},
   "outputs": [],
   "source": [
    "x, y, column_names = generate_data(sic2_number=1)"
   ]
  },
  {
   "cell_type": "markdown",
   "metadata": {},
   "source": [
    "## Evaludation with full variables"
   ]
  },
  {
   "cell_type": "markdown",
   "metadata": {},
   "source": [
    "### OLS"
   ]
  },
  {
   "cell_type": "code",
   "execution_count": 33,
   "metadata": {},
   "outputs": [
    {
     "data": {
      "image/png": "[encoded data removed]",
      "text/plain": [
       "<Figure size 432x288 with 1 Axes>"
      ]
     },
     "metadata": {
      "needs_background": "light"
     },
     "output_type": "display_data"
    },
    {
     "name": "stdout",
     "output_type": "stream",
     "text": [
      "R2: 0.0725\n",
      "RMSE: 0.1204\n"
     ]
    }
   ],
   "source": [
    "evaluation(x, y, metric=ols, alpha=None)"
   ]
  },
  {
   "cell_type": "markdown",
   "metadata": {},
   "source": [
    "### Ridge"
   ]
  },
  {
   "cell_type": "code",
   "execution_count": 36,
   "metadata": {},
   "outputs": [
    {
     "data": {
      "image/png": "[encoded data removed]",
      "text/plain": [
       "<Figure size 432x288 with 1 Axes>"
      ]
     },
     "metadata": {
      "needs_background": "light"
     },
     "output_type": "display_data"
    },
    {
     "name": "stdout",
     "output_type": "stream",
     "text": [
      "R2: 0.1678\n",
      "RMSE: 0.1141\n"
     ]
    }
   ],
   "source": [
    "evaluation(x, y, metric=ridge, alpha=0.2)"
   ]
  },
  {
   "cell_type": "markdown",
   "metadata": {},
   "source": [
    "## Removing features with low variance\n",
    "\n",
    "VarianceThreshold is a simple baseline approach to feature selection. It removes all features whose variance doesn’t meet some threshold. By default, it removes all zero-variance features, i.e. features that have the same value in all samples.\n",
    "\n",
    "As an example, suppose that we have a dataset with boolean features, and we want to remove all features that are either one or zero (on or off) in more than 80% of the samples. Boolean features are Bernoulli random variables, and the variance of such variables is given by\n",
    "\n",
    "$$\n",
    "\\begin{aligned}\n",
    "\\mathrm{Var}[X] = p(1 - p)\n",
    "\\end{aligned}\n",
    "$$\n",
    "\n",
    "so we can select using the threshold <code>$0.8 * (1-0.8)$</code>."
   ]
  },
  {
   "cell_type": "code",
   "execution_count": 16,
   "metadata": {},
   "outputs": [
    {
     "ename": "NameError",
     "evalue": "name 'x' is not defined",
     "output_type": "error",
     "traceback": [
      "\u001b[0;31m---------------------------------------------------------------------------\u001b[0m",
      "\u001b[0;31mNameError\u001b[0m                                 Traceback (most recent call last)",
      "\u001b[0;32m<ipython-input-16-baa83c698fe4>\u001b[0m in \u001b[0;36m<module>\u001b[0;34m\u001b[0m\n\u001b[1;32m      1\u001b[0m \u001b[0;32mfrom\u001b[0m \u001b[0msklearn\u001b[0m\u001b[0;34m.\u001b[0m\u001b[0mfeature_selection\u001b[0m \u001b[0;32mimport\u001b[0m \u001b[0mVarianceThreshold\u001b[0m\u001b[0;34m\u001b[0m\u001b[0;34m\u001b[0m\u001b[0m\n\u001b[1;32m      2\u001b[0m \u001b[0msel\u001b[0m \u001b[0;34m=\u001b[0m \u001b[0mVarianceThreshold\u001b[0m\u001b[0;34m(\u001b[0m\u001b[0;36m.99\u001b[0m \u001b[0;34m*\u001b[0m \u001b[0;34m(\u001b[0m\u001b[0;36m1\u001b[0m \u001b[0;34m-\u001b[0m \u001b[0;36m.99\u001b[0m\u001b[0;34m)\u001b[0m\u001b[0;34m)\u001b[0m\u001b[0;34m\u001b[0m\u001b[0;34m\u001b[0m\u001b[0m\n\u001b[0;32m----> 3\u001b[0;31m \u001b[0mx_vt\u001b[0m \u001b[0;34m=\u001b[0m \u001b[0msel\u001b[0m\u001b[0;34m.\u001b[0m\u001b[0mfit_transform\u001b[0m\u001b[0;34m(\u001b[0m\u001b[0mx\u001b[0m\u001b[0;34m)\u001b[0m\u001b[0;34m\u001b[0m\u001b[0;34m\u001b[0m\u001b[0m\n\u001b[0m",
      "\u001b[0;31mNameError\u001b[0m: name 'x' is not defined"
     ]
    }
   ],
   "source": [
    "from sklearn.feature_selection import VarianceThreshold\n",
    "sel = VarianceThreshold(.99 * (1 - .99))\n",
    "x_vt = sel.fit_transform(x)"
   ]
  },
  {
   "cell_type": "code",
   "execution_count": 26,
   "metadata": {},
   "outputs": [],
   "source": []
  },
  {
   "cell_type": "code",
   "execution_count": null,
   "metadata": {},
   "outputs": [],
   "source": []
  },
  {
   "cell_type": "code",
   "execution_count": 5,
   "metadata": {},
   "outputs": [],
   "source": [
    "x, y, column_names = generate_data(sic2_number=1)"
   ]
  },
  {
   "cell_type": "code",
   "execution_count": 27,
   "metadata": {},
   "outputs": [
    {
     "name": "stdout",
     "output_type": "stream",
     "text": [
      "R2: 0.0725\n",
      "RMSE: 0.1204\n"
     ]
    }
   ],
   "source": []
  },
  {
   "cell_type": "code",
   "execution_count": null,
   "metadata": {},
   "outputs": [],
   "source": []
  }
 ],
 "metadata": {
  "kernelspec": {
   "display_name": "Python 3",
   "language": "python",
   "name": "python3"
  },
  "language_info": {
   "codemirror_mode": {
    "name": "ipython",
    "version": 3
   },
   "file_extension": ".py",
   "mimetype": "text/x-python",
   "name": "python",
   "nbconvert_exporter": "python",
   "pygments_lexer": "ipython3",
   "version": "3.6.8"
  }
 },
 "nbformat": 4,
 "nbformat_minor": 2
}
